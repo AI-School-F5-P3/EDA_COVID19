{
 "cells": [
  {
   "cell_type": "code",
   "execution_count": null,
   "metadata": {},
   "outputs": [],
   "source": [
    "import os\n",
    "\n",
    "# Define el nombre de la carpeta y el archivo\n",
    "notebooks_dir = \"notebooks\"\n",
    "notebook_file = \"eda_covid19.ipynb\"\n",
    "\n",
    "# Crea la carpeta si no existe\n",
    "if not os.path.exists(notebooks_dir):\n",
    "    os.makedirs(notebooks_dir)\n",
    "\n",
    "# Crea un archivo vacío con la extensión .ipynb\n",
    "with open(os.path.join(notebooks_dir, notebook_file), 'w') as f:\n",
    "    f.write('')  # Archivo vacío\n",
    "\n",
    "print(f\"Archivo '{notebook_file}' creado en la carpeta '{notebooks_dir}'.\")\n"
   ]
  }
 ],
 "metadata": {
  "kernelspec": {
   "display_name": ".venv",
   "language": "python",
   "name": "python3"
  },
  "language_info": {
   "codemirror_mode": {
    "name": "ipython",
    "version": 3
   },
   "file_extension": ".py",
   "mimetype": "text/x-python",
   "name": "python",
   "nbconvert_exporter": "python",
   "pygments_lexer": "ipython3",
   "version": "3.12.4"
  }
 },
 "nbformat": 4,
 "nbformat_minor": 2
}
